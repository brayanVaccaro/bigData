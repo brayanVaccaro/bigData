{
 "cells": [
  {
   "attachments": {},
   "cell_type": "markdown",
   "metadata": {},
   "source": [
    "Questo progetto di analisi è eseguito su dataset, presi dal sito Istat (https://demo.istat.it/?l=it), che raccolgono info (Età, Sesso e Totale Residenti) sui residenti stranieri e italiani negli anni 2019-2023.\n",
    "\n",
    "Il progetto si limita ad analizzare come sono distribuiti i residenti stranieri nelle varie regioni e province, evitando quindi di fare una analisi anche sui comuni italiani. "
   ]
  },
  {
   "attachments": {},
   "cell_type": "markdown",
   "metadata": {},
   "source": [
    "Come obiettivo del progetto mi sono posto di analizzare come sono distribuiti i residenti stranieri nel nostro territorio. Di seguito gli obiettivi:\n",
    "-\tMostrare, con un grafico a barre, il totale dei residenti per ogni regione \n",
    "-\tMostrare, con un grafico a torta, la percentuale di residenti stranieri e italiani, sul totale della popolazione, per una determinata regione scelta dall’utente. \n",
    "-\tVisualizzare, con una heatmap, la distribuzione della popolazione straniera per fascia di età\n",
    "-   Visualizzare, con una heatmap, la distribuzione della popolazione straniera per fascia di età nelle province appartenenti ad una regione scelta dall'utente"
   ]
  },
  {
   "attachments": {},
   "cell_type": "markdown",
   "metadata": {},
   "source": [
    "# PREPARIAMO IL NECESSARIO"
   ]
  },
  {
   "cell_type": "code",
   "execution_count": null,
   "metadata": {},
   "outputs": [],
   "source": [
    "# Importo le librerie di cui ho bisogno, che userò\n",
    "import ipywidgets as widgets\n",
    "import seaborn as sns\n",
    "import matplotlib.pyplot as plt\n",
    "import pandas as pd"
   ]
  },
  {
   "cell_type": "code",
   "execution_count": null,
   "metadata": {},
   "outputs": [],
   "source": [
    "# Carico il primo file CSV dei residenti italiani nelle varie regioni in base all'età\n",
    "df_italiani_R = pd.read_csv(\"./italiani/perRegione.csv\", sep=\";\")\n",
    "\n",
    "# Carico il secondo file CSV dei residenti stranieri nelle varie regioni in base all'età\n",
    "df_stranieri_R = pd.read_csv(\"./stranieri/perRegione.csv\", sep=\";\")\n",
    "\n",
    "# Carico il terzo file CSV dei residenti stranieri nelle varie province in base all'età\n",
    "df_stranieri_P = pd.read_csv(\"./stranieri/perProvince.csv\", sep=\";\")"
   ]
  },
  {
   "cell_type": "code",
   "execution_count": null,
   "metadata": {},
   "outputs": [],
   "source": [
    "# Aggiungo la colonna 'Totale' ai dataframe a cui manca\n",
    "df_stranieri_R[\"Totale\"] = df_stranieri_R[\"Maschi\"]+df_stranieri_R[\"Femmine\"]\n",
    "df_stranieri_P['Totale'] = df_stranieri_P['Maschi'] + df_stranieri_P['Femmine']"
   ]
  },
  {
   "attachments": {},
   "cell_type": "markdown",
   "metadata": {},
   "source": [
    "#### Verifico i dataframe"
   ]
  },
  {
   "cell_type": "code",
   "execution_count": null,
   "metadata": {},
   "outputs": [],
   "source": [
    "df_italiani_R.info()"
   ]
  },
  {
   "cell_type": "code",
   "execution_count": null,
   "metadata": {},
   "outputs": [],
   "source": [
    "df_stranieri_R.info()"
   ]
  },
  {
   "cell_type": "code",
   "execution_count": null,
   "metadata": {},
   "outputs": [],
   "source": [
    "df_stranieri_P.info()"
   ]
  },
  {
   "attachments": {},
   "cell_type": "markdown",
   "metadata": {},
   "source": [
    "#### osservando i df appena creati si può notare che le righe in cui l'età vale 999 altro non sono che un riepilogo delle celle soprastanti. di conseguenza mi creo i dataframe in cui ho il totale dei residenti a prescindere dall'età"
   ]
  },
  {
   "attachments": {},
   "cell_type": "markdown",
   "metadata": {},
   "source": [
    "#### df per il totale dei residenti italiani nelle regioni"
   ]
  },
  {
   "cell_type": "code",
   "execution_count": null,
   "metadata": {},
   "outputs": [],
   "source": [
    "# Creo un nuovo dataframe e lo riempio con le righe in cui il valore della colonna \"Età\" è uguale a 999\n",
    "df_italiani_R_TOT = df_italiani_R[df_italiani_R[\"Età\"] == 999].copy()\n",
    "\n",
    "# Rimuovo le righe copiate\n",
    "df_italiani_R = df_italiani_R[df_italiani_R[\"Età\"] != 999]\n",
    "\n",
    "# Rimuovo la colonna 'Età'\n",
    "df_italiani_R_TOT.drop('Età',axis=1,inplace=True)\n",
    "\n",
    "# Resetto gli indici del dataframe\n",
    "df_italiani_R_TOT = df_italiani_R_TOT.reset_index(drop=True)\n",
    "\n",
    "# Rinomino le colonne\n",
    "df_italiani_R_TOT = df_italiani_R_TOT.rename(columns={\"Totale\": \"Totale Residenti\",\"Maschi\":\"Totale Maschi\",\"Femmine\":\"Totale Femmine\"})\n",
    "\n",
    "# Verifico sia andato tutto a buon fine\n",
    "df_italiani_R_TOT.info()"
   ]
  },
  {
   "attachments": {},
   "cell_type": "markdown",
   "metadata": {},
   "source": [
    "#### df per il totale dei residenti stranieri nelle regioni "
   ]
  },
  {
   "cell_type": "code",
   "execution_count": null,
   "metadata": {},
   "outputs": [],
   "source": [
    "# Creo un nuovo dataframe e lo riempio con le righe in cui il valore della colonna \"Età\" è uguale a 999\n",
    "df_stranieri_R_TOT = df_stranieri_R[df_stranieri_R[\"Età\"] == 999].copy()\n",
    "\n",
    "# Rimuovo le righe copiate\n",
    "df_stranieri_R = df_stranieri_R[df_stranieri_R[\"Età\"] != 999]\n",
    "\n",
    "# Rimuovo la colonna 'Età'\n",
    "df_stranieri_R_TOT.drop('Età',axis=1,inplace=True)\n",
    "\n",
    "# Resetto gli indici del dataframe\n",
    "df_stranieri_R_TOT = df_stranieri_R_TOT.reset_index(drop=True)\n",
    "\n",
    "# Rinomino le colonne\n",
    "df_stranieri_R_TOT = df_stranieri_R_TOT.rename(columns={\"Totale\": \"Totale Residenti\",\"Maschi\":\"Totale Maschi\",\"Femmine\":\"Totale Femmine\"})\n",
    "\n",
    "# Verifico sia andato tutto a buon fine\n",
    "df_stranieri_R_TOT.info()\n"
   ]
  },
  {
   "attachments": {},
   "cell_type": "markdown",
   "metadata": {},
   "source": [
    "#### df per il totale dei residenti stranieri nelle province"
   ]
  },
  {
   "cell_type": "code",
   "execution_count": null,
   "metadata": {},
   "outputs": [],
   "source": [
    "# Creo un nuovo dataframe e lo riempio con le righe in cui il valore della colonna \"Età\" è uguale a 999\n",
    "df_stranieri_P_TOT = df_stranieri_P[df_stranieri_P[\"Età\"] == 999].copy()\n",
    "\n",
    "# Rimuovo le righe copiate\n",
    "df_stranieri_P = df_stranieri_P[df_stranieri_P[\"Età\"] != 999]\n",
    "\n",
    "# Rimuovo la colonna 'Età'\n",
    "df_stranieri_P_TOT.drop('Età',axis=1,inplace=True)\n",
    "\n",
    "# Resetto gli indici del dataframe\n",
    "df_stranieri_P_TOT = df_stranieri_P_TOT.reset_index(drop=True)\n",
    "\n",
    "# Rinomino le colonne\n",
    "df_stranieri_P_TOT = df_stranieri_P_TOT.rename(columns={\"Totale\": \"Totale Residenti\",\"Maschi\":\"Totale Maschi\",\"Femmine\":\"Totale Femmine\"})\n",
    "\n",
    "# Verifico che sia andato tutto a buon fine\n",
    "df_stranieri_P_TOT.info()"
   ]
  },
  {
   "attachments": {},
   "cell_type": "markdown",
   "metadata": {},
   "source": [
    "#### ora che i dataframe dei residenti italiani e stranieri sono stati ripuliti dalla riga di 'riepilogo' posso unirli"
   ]
  },
  {
   "cell_type": "code",
   "execution_count": null,
   "metadata": {},
   "outputs": [],
   "source": [
    "# Unisco i due df relativi alle regioni per ottenere un unico dataframe\n",
    "df_merged_R = pd.merge(df_italiani_R, df_stranieri_R, on=[\"Codice Regione\", \"Regione\", \"Età\"], how=\"outer\", suffixes=(\" Italiani\",\" Stranieri\"))\n",
    "\n",
    "# Aggiungo la colonna 'Totale Residenti'\n",
    "df_merged_R[\"Totale Residenti\"] = df_merged_R[\"Totale Italiani\"]+df_merged_R[\"Totale Stranieri\"]"
   ]
  },
  {
   "cell_type": "code",
   "execution_count": null,
   "metadata": {},
   "outputs": [],
   "source": [
    "# verifico \n",
    "df_merged_R.info()"
   ]
  },
  {
   "attachments": {},
   "cell_type": "markdown",
   "metadata": {},
   "source": [
    "# ANALISI"
   ]
  },
  {
   "attachments": {},
   "cell_type": "markdown",
   "metadata": {},
   "source": [
    "### obiettivo 1: totale dei residenti per ogni regione"
   ]
  },
  {
   "cell_type": "code",
   "execution_count": null,
   "metadata": {},
   "outputs": [],
   "source": [
    "plt.figure(figsize=(20, 10))\n",
    "\n",
    "# Imposto l'ordine in cui visualizzare il grafico a barre\n",
    "order=df_stranieri_R_TOT.sort_values(\"Totale Residenti\", ascending=False)[\"Regione\"]\n",
    "\n",
    "sns.barplot(data=df_stranieri_R_TOT, x=\"Regione\", y=\"Totale Residenti\", order=order)\n",
    "# Ruoto per leggibilità\n",
    "plt.xticks(rotation=90)\n",
    "\n",
    "# Aggiungo una label agli assi e un titolo al grafico\n",
    "plt.xlabel(\"Regioni\")\n",
    "plt.ylabel(\"Numero di residenti stranieri\")\n",
    "plt.title(\"Residenti stranieri per regione\")\n",
    "\n",
    "# Setto il layout e visualizzo il grafico\n",
    "plt.tight_layout()\n",
    "plt.show()\n"
   ]
  },
  {
   "attachments": {},
   "cell_type": "markdown",
   "metadata": {},
   "source": [
    "### obiettivo 2: percentuale di residenti stranieri e italiani, sul totale della popolazione, per una determinata regione scelta dall’utente"
   ]
  },
  {
   "cell_type": "code",
   "execution_count": null,
   "metadata": {},
   "outputs": [],
   "source": [
    "# Totale di residenti italiani per ogni regione\n",
    "italiani_total = df_italiani_R_TOT['Totale Residenti']\n",
    "\n",
    "# Totale di residenti stranieri per ogni regione\n",
    "stranieri_total = df_stranieri_R_TOT['Totale Residenti']\n",
    "\n",
    "# Calcolo il totale di residenti (italiani + stranieri) per ogni regione\n",
    "totale_residenti = italiani_total + stranieri_total\n",
    "\n",
    "# Calcolo le percentuali di italiani e stranieri sul totale per ogni regione\n",
    "percentuale_italiani = (italiani_total / totale_residenti) * 100\n",
    "percentuale_stranieri = (stranieri_total / totale_residenti) * 100\n",
    "\n",
    "# Crea il dataframe df_utils\n",
    "df_utils = pd.DataFrame({\n",
    "    'Codice Regione': df_stranieri_R_TOT['Codice Regione'],\n",
    "    'Regione': df_italiani_R_TOT['Regione'],\n",
    "    'Residenti Italiani': italiani_total,\n",
    "    'Residenti Stranieri': stranieri_total,\n",
    "    'Totale Residenti': totale_residenti,\n",
    "    'Percentuale Italiani': percentuale_italiani,\n",
    "    'Percentuale Stranieri': percentuale_stranieri\n",
    "})\n",
    "\n",
    "\n",
    "# df_utils.reset_index()\n",
    "df_utils.info()\n"
   ]
  },
  {
   "cell_type": "code",
   "execution_count": null,
   "metadata": {},
   "outputs": [],
   "source": [
    "df_utils = df_utils.sort_values(by='Percentuale Stranieri', ascending=False)\n",
    "df_utils.info()\n",
    "df_utils.reset_index(inplace=True, drop=True)"
   ]
  },
  {
   "cell_type": "code",
   "execution_count": null,
   "metadata": {},
   "outputs": [],
   "source": [
    "# Funzione per generare il grafico\n",
    "def generate_pie_chart(region):\n",
    "    region_data = df_utils.loc[region]\n",
    "    labels = ['Italiani', 'Stranieri']\n",
    "    sizes = [region_data['Percentuale Italiani'], region_data['Percentuale Stranieri']]\n",
    "    colors = ['#ff9999', '#66b3ff']\n",
    "    \n",
    "    plt.figure(figsize=(6, 6))\n",
    "    plt.pie(sizes, labels=labels, colors=colors, autopct='%1.1f%%', startangle=90)\n",
    "    plt.axis('equal')\n",
    "    plt.title(f'Percentuali di italiani e stranieri - {region} - {df_utils[\"Regione\"][region]}')\n",
    "    plt.show()\n",
    "# Opzioni per il menu a tendina delle regioni\n",
    "region_options = widgets.Dropdown(options=df_utils.index.tolist(), description='Regione:')\n",
    "\n",
    "# Modifica l'etichetta delle opzioni nel menu a tendina\n",
    "region_options.options = [(f\"{region} - {df_utils['Regione'][region]}\", region) for region in region_options.options]\n",
    "\n",
    "# Funzione per gestire l'evento di selezione della regione\n",
    "def on_region_select(change):\n",
    "    region = change.new\n",
    "    generate_pie_chart(region)\n",
    "\n",
    "region_options.observe(on_region_select, names='value')\n",
    "\n",
    "# Mostra il menu a tendina delle regioni\n",
    "display(region_options)\n"
   ]
  },
  {
   "attachments": {},
   "cell_type": "markdown",
   "metadata": {},
   "source": [
    "### obiettivo 3: distribuzione, per età, dei residenti stranieri nelle varie regioni"
   ]
  },
  {
   "cell_type": "code",
   "execution_count": null,
   "metadata": {},
   "outputs": [],
   "source": [
    "# Crea un pivot table per visualizzare i dati come heatmap\n",
    "pivot_table_R = df_merged_R.pivot_table(index='Regione', columns='Età', values='Totale Stranieri')\n",
    "\n",
    "pivot_table_R = pivot_table_R.reindex(df_stranieri_R_TOT.sort_values(\"Totale Residenti\", ascending=False)[\"Regione\"])\n",
    "\n",
    "# Crea la heatmap\n",
    "plt.figure(figsize=(12, 8))\n",
    "sns.heatmap(pivot_table_R, cmap=\"YlOrRd\", annot=False, fmt=\"g\", linewidths=0.5, cbar=True)\n",
    "plt.title(\"Distribuzione, per età, dei residenti stranieri nelle varie Regioni\")\n",
    "plt.xlabel(\"Età\")\n",
    "plt.ylabel(\"Regione\")\n",
    "plt.xticks(rotation=90)\n",
    "plt.yticks(rotation=0)\n",
    "plt.tight_layout()\n",
    "\n",
    "# Visualizza la heatmap\n",
    "plt.show()"
   ]
  },
  {
   "attachments": {},
   "cell_type": "markdown",
   "metadata": {},
   "source": [
    "### obiettivo 4: distribuzione dei residenti stranieri nelle province appartenenti alla regione scelta dall'utente"
   ]
  },
  {
   "attachments": {},
   "cell_type": "markdown",
   "metadata": {},
   "source": [
    "#### per ogni provincia ho bisogno di avere anche il nome della regione a cui appartiene. Quindi creo un dizionario in cui per ogni codice provincia associo la giusta regione"
   ]
  },
  {
   "cell_type": "code",
   "execution_count": null,
   "metadata": {},
   "outputs": [],
   "source": [
    "\n",
    "region_mapping = {\n",
    "    range(1, 7): 'Piemonte',\n",
    "    7: \"Valle d'Aosta/Vallée d'Aoste\",\n",
    "    range(8, 12): 'Liguria',\n",
    "    range(12, 21): 'Lombardia',\n",
    "    range(21, 23): 'Trentino-Alto Adige/Südtirol',\n",
    "    range(23, 30): 'Veneto',\n",
    "    range(30, 33): 'Friuli-Venezia-Giulia',\n",
    "    range(33, 41): 'Emilia-Romagna',\n",
    "    range(41, 45): 'Marche',\n",
    "    range(45, 54): 'Toscana',\n",
    "    range(54, 56): 'Umbria',\n",
    "    range(56, 61): 'Lazio',\n",
    "    range(61, 66): 'Campania',\n",
    "    range(66, 70): 'Abruzzo',\n",
    "    70: 'Molise',\n",
    "    range(71, 76): 'Puglia',\n",
    "    range(76, 78): 'Basilicata',\n",
    "    range(78, 81): 'Calabria',\n",
    "    range(81, 90): 'Sicilia',\n",
    "    range(90, 96): 'Sardegna',\n",
    "    range(97, 99): 'Lombardia',\n",
    "    93: 'Friuli-Venezia-Giulia',\n",
    "    94: 'Molise',\n",
    "    96: 'Piemonte',\n",
    "    99: 'Emilia-Romagna',\n",
    "    100: 'Toscana',\n",
    "    range(101, 103): 'Calabria',\n",
    "    103: 'Piemonte',\n",
    "    108: 'Lombardia',\n",
    "    109: 'Marche',\n",
    "    110: 'Puglia',\n",
    "    111: 'Sardegna'\n",
    "}\n"
   ]
  },
  {
   "cell_type": "code",
   "execution_count": null,
   "metadata": {},
   "outputs": [],
   "source": [
    "# Creo una nuova colonna 'Regione' nel dataframe df_stranieri_P\n",
    "df_stranieri_P['Regione'] = ''\n",
    "\n",
    "# Assegno i valori della colonna 'Regione' ad entrambi i dataframe in base ai criteri definiti\n",
    "for region_range, region_name in region_mapping.items():\n",
    "    if isinstance(region_range, int):\n",
    "        df_stranieri_P_TOT.loc[df_stranieri_P_TOT['Codice Provincia'] == region_range, 'Regione'] = region_name\n",
    "    else:\n",
    "        df_stranieri_P_TOT.loc[df_stranieri_P_TOT['Codice Provincia'].isin(region_range), 'Regione'] = region_name\n",
    "\n",
    "for region_range, region_name in region_mapping.items():\n",
    "    if isinstance(region_range, int):\n",
    "        df_stranieri_P.loc[df_stranieri_P['Codice Provincia'] == region_range, 'Regione'] = region_name\n",
    "    else:\n",
    "        df_stranieri_P.loc[df_stranieri_P['Codice Provincia'].isin(region_range), 'Regione'] = region_name\n",
    "\n"
   ]
  },
  {
   "attachments": {},
   "cell_type": "markdown",
   "metadata": {},
   "source": [
    "#### Verifico che la colonna 'Regione' sia stata aggiunta"
   ]
  },
  {
   "cell_type": "code",
   "execution_count": null,
   "metadata": {},
   "outputs": [],
   "source": [
    "df_stranieri_P_TOT.info()\n",
    "df_stranieri_P.info()"
   ]
  },
  {
   "attachments": {},
   "cell_type": "markdown",
   "metadata": {},
   "source": [
    "#### heatmap dei residenti stranieri nelle province per la regione selezionata"
   ]
  },
  {
   "cell_type": "code",
   "execution_count": null,
   "metadata": {},
   "outputs": [],
   "source": [
    "\n",
    "# Funzione per generare la \n",
    "def generate_heatmap(region):\n",
    "    # Filtra il dataframe per la regione selezionata\n",
    "    df_region = df_stranieri_P[df_stranieri_P['Regione'].str.contains(region)]\n",
    "    \n",
    "    # df_region.info()\n",
    "        \n",
    "    # Crea un pivot table per visualizzare i dati come heatmap\n",
    "    pivot_table = df_region.pivot_table(index='Provincia', columns='Età', values='Totale')\n",
    "\n",
    "    pivot_table = pivot_table.reindex(df_region.groupby('Provincia')['Totale'].sum().sort_values(ascending=False).index)\n",
    "    \n",
    "    # Crea la heatmap\n",
    "    plt.figure(figsize=(12, 8))\n",
    "    sns.heatmap(pivot_table, cmap=\"YlOrRd\", annot=False, fmt=\"g\", linewidths=0.5, cbar=True)\n",
    "    plt.title(f\"Distribuzione degli stranieri nelle province della regione {region} per età\")\n",
    "    plt.xlabel(\"Età\")\n",
    "    plt.ylabel(\"Provincia\")\n",
    "    plt.xticks(rotation=90)\n",
    "    plt.yticks(rotation=0)\n",
    "    plt.tight_layout()\n",
    "    \n",
    "    # Visualizza la heatmap\n",
    "    plt.show()\n",
    "\n",
    "# Opzioni per il menu a tendina delle regioni\n",
    "region_options = widgets.Dropdown(options=df_stranieri_R_TOT['Regione'].unique(), description='Regione:')\n",
    "\n",
    "# Funzione per gestire l'evento di selezione della regione\n",
    "def on_region_select(change):\n",
    "    region = change.new\n",
    "    generate_heatmap(region)\n",
    "\n",
    "region_options.observe(on_region_select, names='value')\n",
    "\n",
    "# Mostra il menu a tendina delle regioni\n",
    "display(region_options)\n"
   ]
  },
  {
   "attachments": {},
   "cell_type": "markdown",
   "metadata": {},
   "source": [
    "# CONCLUSIONI"
   ]
  },
  {
   "attachments": {},
   "cell_type": "markdown",
   "metadata": {},
   "source": [
    "Viene effettuata una analisi per regione e succesivamente per province. Di conseguenza:\n",
    "\n",
    "Per quanto riguarda le regioni:\n",
    "- Se si considera il totale dei residenti stranieri si osserva, grazie al grafico a barre, come la regione Lombardia presenti il maggior numero di residenti stranieri.\n",
    "\n",
    "- Se si considerano le percentuali di stranieri residenti, sul totale della popolazione residente in quella regione, si evince come la regione Emilia-Romagna abbia una percentuale superiore di residenti stranieri\n",
    "\n",
    "Per quanto riguarda le province:\n",
    "- Si evince come sia la regione Veneto quella in cui i residenti stranieri siano distribuiti più equamente nelle province (5 delle 7 province). Altre regioni in cui si ha una situazione simile sono: Abruzzo, Basilicata, Emilia-Romagna, Marche, Sicilia, Trentino-Alto Adige\n",
    "\n",
    "- Se si osservano le heatmap delle province delle regioni quali Lazio, Lombardia, Toscana, Piemonte, Liguria, Calabria, Campania, Molise, Friuli-Venezia-Giulia, Puglia, Sardegna, Umbria, Valle d'Aosta si nota, invece, come i residenti stranieri siano maggiormente distribuiti nelle città di interesse di quelle regioni. Osservando, per esempio, la regione Lombardia o la regione Lazio si nota come quasi la totalità dei residenti stranieri risiedano a Milano e a Roma piuttosto che in altre province.\n",
    "\n",
    "\n"
   ]
  },
  {
   "attachments": {},
   "cell_type": "markdown",
   "metadata": {},
   "source": [
    "## Ultime considerazioni:"
   ]
  },
  {
   "attachments": {},
   "cell_type": "markdown",
   "metadata": {},
   "source": [
    "\n",
    "Ci sono alcune regioni (Basilicata, Molise, Trentino-Alto Adige, Umbria, Valle d'Aosta) in cui, avendo poche province, la distribuzione dei residenti stranieri sarebbe ancora più precisa se si considerassero anche i Comuni di quelle regioni. Ciò potrebbe essere oggetto di analisi future."
   ]
  }
 ],
 "metadata": {
  "kernelspec": {
   "display_name": "Python 3",
   "language": "python",
   "name": "python3"
  },
  "language_info": {
   "codemirror_mode": {
    "name": "ipython",
    "version": 3
   },
   "file_extension": ".py",
   "mimetype": "text/x-python",
   "name": "python",
   "nbconvert_exporter": "python",
   "pygments_lexer": "ipython3",
   "version": "3.11.2"
  },
  "orig_nbformat": 4
 },
 "nbformat": 4,
 "nbformat_minor": 2
}
